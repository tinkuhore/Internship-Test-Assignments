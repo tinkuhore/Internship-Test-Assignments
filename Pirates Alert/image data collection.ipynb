{
 "cells": [
  {
   "cell_type": "markdown",
   "id": "6cfef864",
   "metadata": {},
   "source": [
    "# Project Objective\n",
    "\n",
    "- **The objective of this assignment is to train a machine learning model that can accurately classify various product and brand names from input images.**\n",
    "- The model should be capable of identifying the following brands: ***Saslic, 8X shampoo, WoW skincare, Head & Shoulder, P&G, Dove, L'Oreal, and Mamaearth.***\n",
    "- Sample product images have been provided for three of the brands, namely Saslic, 8X shampoo, and WoW skincare. However, the data sets for the remaining five brands must be collected manually by the candidate. These data sets should consist of various product images for each brand."
   ]
  },
  {
   "cell_type": "markdown",
   "id": "269506dd",
   "metadata": {},
   "source": [
    "## Steps to follow :\n",
    "\n",
    "1. **Image collection -**\n",
    "    With the help of simple-image-download library we can download atleast 100 images for each of the above mentioned brands from Google Images and store them in a folder named as the brand name.\n",
    "    \n",
    "    \n",
    "2. **Image cleaning -**\n",
    "    Next we have to check all the downloaded images nd delete the invalid or useless ones.\n",
    "    \n",
    "    \n",
    "3. **Image Labeling -**\n",
    "\n",
    "\n",
    "4. **Data Ingestion -**\n",
    "\n",
    "\n",
    "5. **Create Database -**\n",
    "\n",
    "\n",
    "6. **Split Train and Test data -**\n",
    "\n",
    "\n",
    "7. **Build and train Model -**"
   ]
  },
  {
   "cell_type": "code",
   "execution_count": null,
   "id": "e0409dda",
   "metadata": {},
   "outputs": [],
   "source": []
  },
  {
   "cell_type": "markdown",
   "id": "0380d1e6",
   "metadata": {},
   "source": [
    "## Step 1- Image collection by web scraping"
   ]
  },
  {
   "cell_type": "code",
   "execution_count": 14,
   "id": "68f5a3b6",
   "metadata": {
    "collapsed": true
   },
   "outputs": [
    {
     "name": "stdout",
     "output_type": "stream",
     "text": [
      "Defaulting to user installation because normal site-packages is not writeable\n",
      "Collecting simple-image-download\n",
      "  Downloading simple_image_download-0.5-py3-none-any.whl (7.0 kB)\n",
      "  Downloading simple_image_download-0.4-py3-none-any.whl (4.9 kB)\n",
      "  Downloading simple_image_download-0.2-py3-none-any.whl (3.8 kB)\n",
      "Requirement already satisfied: requests in /usr/lib/python3/dist-packages (from simple-image-download) (2.25.1)\n",
      "Installing collected packages: simple-image-download\n",
      "Successfully installed simple-image-download-0.2\n"
     ]
    }
   ],
   "source": [
    "!pip install simple-image-download\n"
   ]
  },
  {
   "cell_type": "code",
   "execution_count": 23,
   "id": "fc4d355c",
   "metadata": {},
   "outputs": [
    {
     "name": "stdout",
     "output_type": "stream",
     "text": [
      "HTTPSConnectionPool(host='getdaytoday.com', port=443): Max retries exceeded with url: /public/uploads/all/IUFOcIywhQlmQGUHKwDYWstDw8mXezxdS0N61rjv.jpg (Caused by ConnectTimeoutError(<urllib3.connection.HTTPSConnection object at 0x7f6685ab42e0>, 'Connection to getdaytoday.com timed out. (connect timeout=None)'))\n",
      "HTTPSConnectionPool(host='vpc-prod-thumbor-public-gcp.boxed.com', port=443): Max retries exceeded with url: /unsafe/filters:quality(100):max_bytes(50000)/dcmzfk78s4reh.cloudfront.net/1541690823943.png (Caused by ConnectTimeoutError(<urllib3.connection.HTTPSConnection object at 0x7f6685ab53c0>, 'Connection to vpc-prod-thumbor-public-gcp.boxed.com timed out. (connect timeout=None)'))\n"
     ]
    }
   ],
   "source": [
    "from simple_image_download import simple_image_download as simp \n",
    "response = simp.simple_image_download\n",
    "lst=[\"Saslic\", \"8X shampoo\", \"WoW skincare\", \"Head & Shoulder\", \"P&G\",\n",
    "     \"Dove Products\", \"L'Oreal\", \"Mamaearth\"]\n",
    "for rep in lst:\n",
    "    response().download(rep+\" Products\" , 100)"
   ]
  },
  {
   "cell_type": "code",
   "execution_count": 22,
   "id": "d745a541",
   "metadata": {},
   "outputs": [],
   "source": [
    "response().download(\"Dove Products\", 100)"
   ]
  },
  {
   "cell_type": "code",
   "execution_count": null,
   "id": "276eab31",
   "metadata": {},
   "outputs": [],
   "source": []
  }
 ],
 "metadata": {
  "kernelspec": {
   "display_name": "Python 3 (ipykernel)",
   "language": "python",
   "name": "python3"
  },
  "language_info": {
   "codemirror_mode": {
    "name": "ipython",
    "version": 3
   },
   "file_extension": ".py",
   "mimetype": "text/x-python",
   "name": "python",
   "nbconvert_exporter": "python",
   "pygments_lexer": "ipython3",
   "version": "3.10.6"
  }
 },
 "nbformat": 4,
 "nbformat_minor": 5
}
